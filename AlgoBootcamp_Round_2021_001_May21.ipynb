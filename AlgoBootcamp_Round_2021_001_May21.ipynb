{
  "nbformat": 4,
  "nbformat_minor": 0,
  "metadata": {
    "colab": {
      "name": "AlgoBootcamp - Round 2021-001 - May21.ipynb",
      "provenance": [],
      "collapsed_sections": [
        "1XxuojEzReYj",
        "BBvqywrb7Xt3",
        "PpKyagYn7BLf"
      ],
      "authorship_tag": "ABX9TyOyAmoLUUJcrHddHlA8B7CC",
      "include_colab_link": true
    },
    "kernelspec": {
      "name": "python3",
      "display_name": "Python 3"
    },
    "language_info": {
      "name": "python"
    }
  },
  "cells": [
    {
      "cell_type": "markdown",
      "metadata": {
        "id": "view-in-github",
        "colab_type": "text"
      },
      "source": [
        "<a href=\"https://colab.research.google.com/github/LeQuangHuyUIT/UIT-ALGO-BOOTCAMP/blob/main/AlgoBootcamp_Round_2021_001_May21.ipynb\" target=\"_parent\"><img src=\"https://colab.research.google.com/assets/colab-badge.svg\" alt=\"Open In Colab\"/></a>"
      ]
    },
    {
      "cell_type": "markdown",
      "metadata": {
        "id": "1XxuojEzReYj"
      },
      "source": [
        "\n",
        "# Hidden Word"
      ]
    },
    {
      "cell_type": "markdown",
      "metadata": {
        "id": "cxunnSBIRteR"
      },
      "source": [
        "- Link: https://khmt.uit.edu.vn/wecode/algobootcamp/practice/show/88\n",
        "- Tóm tắt: \n",
        "    * Cho 1 mảng 2 chiều kích thước \n",
        "$N * M$ phần tử chỉ chứa các ký tự từ 'a' đến 'z'\n",
        "\n",
        "    * Cho Q truy vấn mỗi truy vấn là 1 từ có độ dài từ 2 đến 10 ký tự.\n",
        "    * Yêu cầu bài toán: Với mỗi từ được truy vấn, in ra 1 nếu từ đó tồn tại trong bảng (theo cách đọc từ trái qua và từ trên xuống) và ngược lại thì xuất ra 0\n",
        "\n",
        "- Pattern Recognition:\n",
        "    * Nếu Gọi \n",
        "$S$ là tập các từ được tạo ra từ mảng hai chiều bằng cách đọc từ trái qua phải và từ trên xuống dưới, Thì nhiệm vụ của chúng ta chỉ là kiểm tra xem các từ được truy vấn có nằm trong tập\n",
        "$S$ hay không \n",
        "    * Vì các từ được truy vấn có độ dài không quá 10 nên ta sẽ giới hạn độ dài của các từ trong \n",
        "$S$\n",
        "* Nhận xét: Nếu lượng truy vấn giảm xuống (Q = 100) và độ dài của mỗi từ trong truy vấn dài hơn \n",
        "(khoảng $10^5$ ký tự) thì cách làm trên sẽ gây tiêu tốn rất nhiều bộ nhớ, khi đó ta cần phải sử dụng Trie để giải quyết bài toán này. "
      ]
    },
    {
      "cell_type": "markdown",
      "metadata": {
        "id": "0BWAa85-O0rH"
      },
      "source": [
        "- Code Python sử dụng set() để giải quyết bài toán"
      ]
    },
    {
      "cell_type": "code",
      "metadata": {
        "id": "CJ7ANkRcRsm4"
      },
      "source": [
        "if __name__ == \"__main__\":\n",
        "    n, m, q = map(int, input().split())\n",
        "    table = []\n",
        "    dictionary = set()\n",
        "\n",
        "    for _ in range(n):\n",
        "        s = input()\n",
        "        table.append(s)\n",
        "\n",
        "    for i in range(n):\n",
        "        for j in range(m):\n",
        "            s1 = \"\" \n",
        "            s2 = \"\"\n",
        "            for t in range(10):\n",
        "                if i + t < n:\n",
        "                    s1 = s1 + table[i + t][j]\n",
        "                if j + t < m:\n",
        "                    s2 = s2 + table[i][j + t]\n",
        "                dictionary.add(s1)\n",
        "                dictionary.add(s2)\n",
        "\n",
        "    while q :\n",
        "        q -= 1\n",
        "        q_string = input()\n",
        "        if q_string in dictionary:\n",
        "            print(1, end= '') \n",
        "        else:\n",
        "            print(0, end= '') "
      ],
      "execution_count": null,
      "outputs": []
    },
    {
      "cell_type": "markdown",
      "metadata": {
        "id": "RyjWM55KPDda"
      },
      "source": [
        "- Code C++ sử dụng cấu trúc Trie\n",
        "\n",
        "\n",
        "```\n",
        "#include <bits/stdc++.h>\n",
        "#include <ext/pb_ds/assoc_container.hpp>\n",
        "\n",
        "using namespace std;\n",
        "using namespace __gnu_pbds;\n",
        "\n",
        "#define vt vector\n",
        "#define pb push_back\n",
        "#define all(c) (c).begin(), (c).end()\n",
        "#define rall(c) (c).rbegin(), (c).rend()\n",
        "#define sz(x) (int)(x).size()\n",
        "#define rep(i, a, b) for(int i=a; i<=b; i++)\n",
        "#define down(i, a, b) for(int i=a; i>=b; i--)\n",
        "#define dbg(x) cerr << \"[\" << #x << \": \" << (x) << \"] \";\n",
        "#define endln cerr << \"\\n\";\n",
        "#define fi first \n",
        "#define sec second\n",
        "\n",
        "const ll INF = 1e9+1;\n",
        "const int N = 1e5+1;\n",
        "\n",
        "/* stuff you should look for\n",
        "\t* WRITE STUFF DOWN\n",
        "\t* DON'T GET STUCK ON ONE APPROACH\n",
        "*/\n",
        "\n",
        "struct node\n",
        "{\n",
        "\tmap<char, node*> arr;\t\n",
        "};\n",
        "node* temp;\n",
        "\n",
        "node* CreateNode(){\n",
        "\tnode* T = new node;\n",
        "\treturn T;\n",
        "}\n",
        "\n",
        "void Insert(node* root, string str){\n",
        "\ttemp = root;\n",
        "\tfor(auto x : str){\n",
        "\t\tif(temp -> arr.find(x) == temp -> arr.end())\n",
        "\t\t\ttemp -> arr[x] = CreateNode();\n",
        "\t\ttemp = temp -> arr[x];\n",
        "\t}\n",
        "\t\n",
        "}\n",
        "\n",
        "bool Search(node* root, string str){\n",
        "\ttemp = root;\n",
        "\tfor(auto x : str){\n",
        "\t\tif(temp -> arr.find(x) == temp -> arr.end())\n",
        "\t\t\treturn 0;\n",
        "\t\ttemp = temp -> arr[x];\n",
        "\t}\n",
        "\treturn 1;\n",
        "}\n",
        "\n",
        "void solve(){\n",
        "\tint n, m, q;\n",
        "\tcin >> n >> m >> q;\n",
        "\tvt<string> arr(n);\n",
        "\tnode* root = CreateNode();\n",
        "\n",
        "\tfor(auto &x : arr){\n",
        "\t\tcin >> x;\n",
        "\t}\n",
        "\n",
        "\tstring s1, s2;\n",
        "\trep(i, 0, n - 1){\n",
        "\t\trep(j, 0, m - 1){\n",
        "\t\t\ts1 = \"\";\n",
        "\t\t\ts2 = \"\";\n",
        "\t\t\trep(t, 0, 9){\n",
        "\t\t\t\tif(t + j < m)\n",
        "\t\t\t\t\ts1 = s1 + arr[i][t + j];\n",
        "\t\t\t\tif(t + i < n)\n",
        "\t\t\t\t\ts2 = s2 + arr[i + t][j];\n",
        "\t\t\t\tif(sz(s1))\n",
        "\t\t\t\t\tInsert(root, s1);\n",
        "\t\t\t\tif(sz(s2))\n",
        "\t\t\t\t\tInsert(root, s2);\n",
        "\t\t\t}\n",
        "\t\t}\n",
        "\t}\n",
        "\n",
        "\tstring s;\n",
        "\twhile(q--){\n",
        "\t\tcin >> s;\n",
        "\t\tcout << Search(root, s);\n",
        "\t}\n",
        "\tcout << endl;\n",
        "}\n",
        "\n",
        "int main(){\n",
        "\tios_base::sync_with_stdio(0);\n",
        "\tcin.tie(0);\n",
        "\tcout.tie(0);\n",
        "\tsolve();\n",
        "}\n",
        "\t\t\n",
        "\n",
        "```\n",
        "\n"
      ]
    },
    {
      "cell_type": "markdown",
      "metadata": {
        "id": "BBvqywrb7Xt3"
      },
      "source": [
        "# TRUE EXPRESSION"
      ]
    },
    {
      "cell_type": "markdown",
      "metadata": {
        "id": "A2swIk5MKJCq"
      },
      "source": [
        "- Link: https://khmt.uit.edu.vn/wecode/algobootcamp/practice/show/89\n",
        "- Tóm tắt bài toán: Cho một dãy gồm N số từ 1 đến N và một số nguyên dương S. Yêu cầu thêm dấu \"+\" hoặc \"-\" trước mỗi số để biểu thức tạo bởi dãy số trên sau khi thêm dấu có giá trị là S.\n",
        "\n",
        "- Pattern Recognition: \n",
        "    + Nếu chỉ đặt dấu cộng trước mỗi số thì kết quả của biểu thức là tổng tối đa của N số và được tính theo công thức:\n",
        ">>>$\\frac{N*(N+1)}{2}$\n",
        "\n",
        "                Nên nếu giá trị của S lớn hơn công thức trên thì không thể tạo ra giá trị S \n",
        "                => Đáp án sẽ là NO_SOLUTION\n",
        "    + Gọi S' là tổng các số từ 1 đến N, Thao tác đặt một dấu trừ trước số x ( $ 1<= x <= n $) sẽ tương đương với thao tác $S' = S' - 2*x$. \n",
        "\n",
        "    + Với nhận xét trên, để tạo được giá trị S thì ta chỉ cần kiểm tra xem có thể biểu diễn giá trị $\\frac{S' - S}{2}$ bằng các số từ 1 đến n (mỗi số dùng tối đa một lần) hay không.\n",
        "\n",
        "- Algorithms Design:\n",
        "    + Tính $S'=\\sum_{i=1}^ni$\n",
        "    + So sánh $S'$ và $S$, nếu $S' > S$ hoặc $(S'- S)$ không chia hết cho 2 thì bài toán không có lời giải\n",
        "    + Tạo một mảng check.\n",
        "        + $check[i] = 0$ Tương đương ta sẽ đặt dấu $+$ phía trước số i .\n",
        "        + $check[i] = 1$ Tương đương ta sẽ đặt dấu $-$ phía trước số i .\n",
        "    + Gọi $m = \\frac{S' - S}{2}$ và $sub = N$.Ta sẽ bắt đầu lặp cho đến khi $m = 0$.\n",
        "    \n",
        "    Loop:\n",
        "        + Nếu $m > sub$:\n",
        "            + gán $check[sub] = 1$\n",
        "            + $sub = sub - 1$\n",
        "            + $m = m - sub$\n",
        "        + Nếu $m <= sub$\n",
        "            + gán $check[m] = 1$ \n",
        "            + gán $m = 0$\n",
        "    + Duyệt qua mảng check, nếu $check[i] == 1$ thì in ra dấu $+$ và ngược lại thì in ra dấu $-$ "
      ]
    },
    {
      "cell_type": "code",
      "metadata": {
        "colab": {
          "base_uri": "https://localhost:8080/"
        },
        "id": "19XmBgnGl9bh",
        "outputId": "b9382bd3-6c04-4528-b580-4178d977c362"
      },
      "source": [
        "def have_solution(S_prime, S):\n",
        "    if S_prime < S or S_prime%2 != S%2:\n",
        "        return 0\n",
        "    return 1\n",
        "\n",
        "def find_solution(S_prime, S, n):\n",
        "    answer = [0]*(n+1)\n",
        "    m = (S_prime - S)//2\n",
        "    x = n\n",
        "    while m > 0:\n",
        "        if m > x:\n",
        "            m -= x;\n",
        "            answer[x] = 1\n",
        "            x -= 1\n",
        "        else:\n",
        "            answer[m] = 1\n",
        "            m = 0\n",
        "    return answer\n",
        "\n",
        "if __name__ == '__main__':\n",
        "    n, S = map(int, input().split())\n",
        "    S_prime = n*(n+1)//2\n",
        "\n",
        "    if have_solution(S_prime, S) :\n",
        "\n",
        "        ans = find_solution(S_prime, S, n)\n",
        "        for i in range(1, n+1):\n",
        "            if ans[i]:\n",
        "                print('-', end='')\n",
        "            else: \n",
        "                print('+', end='')\n",
        "                \n",
        "    else:\n",
        "        print(\"NO_SOLUTION\")"
      ],
      "execution_count": null,
      "outputs": [
        {
          "output_type": "stream",
          "text": [
            "3 7\n",
            "NO_SOLUTION\n"
          ],
          "name": "stdout"
        }
      ]
    },
    {
      "cell_type": "markdown",
      "metadata": {
        "id": "PpKyagYn7BLf"
      },
      "source": [
        "# SPLITTING CARROTS"
      ]
    },
    {
      "cell_type": "markdown",
      "metadata": {
        "id": "_MgoSxQ_7zbF"
      },
      "source": [
        "- Link: https://khmt.uit.edu.vn/wecode/algobootcamp/practice/show/91\n",
        "- Tóm tắt bài toán: \n",
        "    * Cho 1 mảng A gồm số N nguyên dương.\n",
        "$a_{1}, a_{2} ... a_{n}$\n",
        "    \n",
        "    * Hãy tìm cách loại một vài số nguyên dương trong mảng A để không có cách nào chia mảng A thành 2 mảng con có tổng bằng nhau.\n",
        "- Pattern recognition\n",
        "    * Gọi\n",
        "$total$ là tổng của các phần tử trong mảng A. Nếu\n",
        "$total$ không chia hết cho 2 hoặc không thể tạo được tổng $\\frac{total}{2}$ thì ta không cần làm gì cả.\n",
        "\n",
        "        => output của bài toán lúc này là 0\n",
        "    * Nếu mảng ban đầu chia hết cho 2 và có thể tạo ra tổng\n",
        "$\\frac{total}{2}$. Ta sẽ tiếp tục chia đôi 2 mảng con có tổng\n",
        "$\\frac{total}{2}$ ra cho đến khi một mảng nào đó có tổng là số lẻ. \n",
        "\n"
      ]
    },
    {
      "cell_type": "code",
      "metadata": {
        "id": "oln3XrbD54zi",
        "colab": {
          "base_uri": "https://localhost:8080/"
        },
        "outputId": "bb27bcde-5280-455f-d4d0-94d87664ac25"
      },
      "source": [
        "if __name__ == '__main__':\n",
        "    n = int(input())\n",
        "    arr = [int(x) for x in input().split()]\n",
        "\n",
        "    total = 0\n",
        "    bs = 0\n",
        "    for value in arr:\n",
        "        total += value\n",
        "\n",
        "    dp = [[0 for _ in range(total//2 + 1)] for x in range(n+1)]\n",
        "\n",
        "    dp[0][0] = 1\n",
        "    \n",
        "    for i in range(n):\n",
        "        for j in range(total//2+1):\n",
        "            if dp[i][j] != 0:\n",
        "                dp[i + 1][j] = 1\n",
        "                if j + arr[i] <= total//2:\n",
        "                    dp[i + 1][j + arr[i]] = 1\n",
        "    \n",
        "    if total % 2 or dp[n][total//2] == 0:\n",
        "        print(0)\n",
        "    else:\n",
        "        flag = 0\n",
        "        while flag == 0:\n",
        "            for i in range(n):\n",
        "                if arr[i] % 2:\n",
        "                    print(1)\n",
        "                    print(i+1)\n",
        "                    flag = 1\n",
        "                    break\n",
        "            for i in range(n):\n",
        "                arr[i] = arr[i]//2"
      ],
      "execution_count": null,
      "outputs": [
        {
          "output_type": "stream",
          "text": [
            "4\n",
            "6 3 9 12\n",
            "1\n",
            "2\n"
          ],
          "name": "stdout"
        }
      ]
    },
    {
      "cell_type": "markdown",
      "metadata": {
        "id": "2LmRL2N8hYYN"
      },
      "source": [
        "# Top k hit\n"
      ]
    },
    {
      "cell_type": "markdown",
      "metadata": {
        "id": "jBcCmAOhWS70"
      },
      "source": [
        "- Link: https://khmt.uit.edu.vn/wecode/algobootcamp/practice/show/90\n",
        "\n",
        "- Tóm tắt đề bài:\n",
        "    * Cho mảng A gồm N phần tử \n",
        "($ 1 <= N <= 50000 $) và các phần tử có giá trị như nhau\n",
        "    * Có \n",
        "$Q$ truy vấn thuộc 1 trong 2 loại :\n",
        "        * Loại 1: Cộng các phần tử nằm trong đoạn [l;r] của A lên $x$ đơn vị.\n",
        "        * Loại 2: Tìm và in ra màn hình chỉ số của \n",
        "$k$ phần tử lớn nhất trong mảng A \n",
        "($ 1 <= k <= 5$).\n",
        "\n",
        "            * Nếu không đủ k phần tử thì in nhiều chỉ số nhất có thể \n",
        "            * Nếu có nhiều phần tử cùng giá trị thì ưu tiên phần tử có chỉ số lớn hơn\n",
        "- Pattern Recognition:\n",
        "    * Bài toán có thể sử dụng Segment Tree để cập nhật và trả lời truy vấn\n",
        "    * Với mỗi truy vấn loại 1, vì là cập nhật theo đoạn nên ta cần dùng lazy propagation \n",
        "    * Để phục vụ cho truy vấn loại 2, các node trong cây Segment Tree cần lưu thông tin giá trị và chỉ số của tối đa 5 phần tử lớn nhất nằm trong đoạn mà node quản lý"
      ]
    },
    {
      "cell_type": "code",
      "metadata": {
        "colab": {
          "base_uri": "https://localhost:8080/",
          "height": 629
        },
        "id": "pwSdEqeFhadv",
        "outputId": "5f4b5a7d-c94e-44ac-97f3-806a6b96852c"
      },
      "source": [
        "\n",
        "class SegmentTree:\n",
        "    def __init__(self, n):\n",
        "        self.size = 1\n",
        "        while self.size < n :\n",
        "            self.size *= 2\n",
        "        \n",
        "        self.tree = [{()} for _ in range(self.size * 2) ]\n",
        "        self.lazy = [(0) for _ in range(self.size * 2)]\n",
        "\n",
        "        self.build(0, n, 0, self.size)\n",
        "        pass \n",
        "\n",
        "    def build(self, i, n, lx, rx):\n",
        "        if rx - lx == 1:\n",
        "            self.tree[i].clear()\n",
        "            if lx < n:\n",
        "                self.tree[i].add((0, lx))\n",
        "            else:\n",
        "                self.tree[i].add((-10**19, lx))\n",
        "            return\n",
        "        \n",
        "        mid = (lx + rx) >> 1\n",
        "        self.build(i * 2 + 1, n, lx, mid)\n",
        "        self.build(i * 2 + 2, n, mid, rx)\n",
        "\n",
        "\n",
        "        self.tree[i].clear()\n",
        "        self.tree[i] = self.tree[i * 2 + 1] | self.tree[i * 2 + 2]\n",
        "        while len(self.tree[i]) > 5:\n",
        "            self.tree[i].remove(min(self.tree[i]))\n",
        "\n",
        "    def add(self, i, value):\n",
        "        temp = {()}\n",
        "        temp.clear()\n",
        "        while len(self.tree[i]):\n",
        "            v = self.tree[i].pop()\n",
        "            temp.add((v[0] + value, v[1]))\n",
        "        self.tree[i] = temp\n",
        "\n",
        "    def probagation(self, i):\n",
        "        self.lazy[i * 2 + 1] += self.lazy[i]\n",
        "        self.lazy[i * 2 + 2] += self.lazy[i]\n",
        "        self.add(i * 2 + 1, self.lazy[i])\n",
        "        self.add(i * 2 + 2, self.lazy[i])\n",
        "        self.lazy[i] = 0\n",
        "\n",
        "    def update(self, i, l, r, val, lx, rx):\n",
        "        if l >= rx or r <= lx:\n",
        "            return\n",
        "\n",
        "        if l <= lx and rx <= r:\n",
        "            self.add(i, val)\n",
        "            self.lazy[i] += val\n",
        "            return\n",
        "\n",
        "        if self.lazy[i] != 0:\n",
        "            self.probagation(i)\n",
        "        \n",
        "        mid = (lx + rx) >> 1\n",
        "\n",
        "        self.update(i * 2 + 1, l, r, val, lx, mid)\n",
        "        self.update(i * 2 + 2, l, r, val, mid, rx)\n",
        "\n",
        "        self.tree[i] = self.tree[i * 2 + 1] | self.tree[i * 2 + 2]\n",
        "        while len(self.tree[i]) > 5:\n",
        "            (self.tree[i]).remove(min(self.tree[i]))\n",
        "\n",
        "    def print(self, k):\n",
        "        temp = sorted(self.tree[0], reverse= True)\n",
        "        for i in range(min(k, len(temp))):\n",
        "            print(temp[i][1] + 1, end=' ')\n",
        "        print()\n",
        "\n",
        "if __name__ == '__main__':\n",
        "    n, q = map(int, input().split())\n",
        "    T = SegmentTree(n)\n",
        "\n",
        "    while q > 0:\n",
        "        q -= 1\n",
        "        s = input()\n",
        "        if s[0] == '1':\n",
        "            _, l, r, val = map(int, s.split())\n",
        "            T.update(0, l - 1, r, val, 0, T.size)\n",
        "        else:\n",
        "            _, k = map(int, s.split())\n",
        "            T.print(min(k, n))"
      ],
      "execution_count": null,
      "outputs": [
        {
          "output_type": "stream",
          "text": [
            "7 8\n",
            "2 3\n",
            "7 6 5 \n",
            "1 1 5 5 \n",
            "{(0, 1), (0, 3), (0, 0), (0, 2)}\n",
            "{(0, 4)}\n"
          ],
          "name": "stdout"
        },
        {
          "output_type": "error",
          "ename": "KeyboardInterrupt",
          "evalue": "ignored",
          "traceback": [
            "\u001b[0;31m---------------------------------------------------------------------------\u001b[0m",
            "\u001b[0;31mKeyboardInterrupt\u001b[0m                         Traceback (most recent call last)",
            "\u001b[0;32m/usr/local/lib/python3.7/dist-packages/ipykernel/kernelbase.py\u001b[0m in \u001b[0;36m_input_request\u001b[0;34m(self, prompt, ident, parent, password)\u001b[0m\n\u001b[1;32m    728\u001b[0m             \u001b[0;32mtry\u001b[0m\u001b[0;34m:\u001b[0m\u001b[0;34m\u001b[0m\u001b[0;34m\u001b[0m\u001b[0m\n\u001b[0;32m--> 729\u001b[0;31m                 \u001b[0mident\u001b[0m\u001b[0;34m,\u001b[0m \u001b[0mreply\u001b[0m \u001b[0;34m=\u001b[0m \u001b[0mself\u001b[0m\u001b[0;34m.\u001b[0m\u001b[0msession\u001b[0m\u001b[0;34m.\u001b[0m\u001b[0mrecv\u001b[0m\u001b[0;34m(\u001b[0m\u001b[0mself\u001b[0m\u001b[0;34m.\u001b[0m\u001b[0mstdin_socket\u001b[0m\u001b[0;34m,\u001b[0m \u001b[0;36m0\u001b[0m\u001b[0;34m)\u001b[0m\u001b[0;34m\u001b[0m\u001b[0;34m\u001b[0m\u001b[0m\n\u001b[0m\u001b[1;32m    730\u001b[0m             \u001b[0;32mexcept\u001b[0m \u001b[0mException\u001b[0m\u001b[0;34m:\u001b[0m\u001b[0;34m\u001b[0m\u001b[0;34m\u001b[0m\u001b[0m\n",
            "\u001b[0;32m/usr/local/lib/python3.7/dist-packages/jupyter_client/session.py\u001b[0m in \u001b[0;36mrecv\u001b[0;34m(self, socket, mode, content, copy)\u001b[0m\n\u001b[1;32m    802\u001b[0m         \u001b[0;32mtry\u001b[0m\u001b[0;34m:\u001b[0m\u001b[0;34m\u001b[0m\u001b[0;34m\u001b[0m\u001b[0m\n\u001b[0;32m--> 803\u001b[0;31m             \u001b[0mmsg_list\u001b[0m \u001b[0;34m=\u001b[0m \u001b[0msocket\u001b[0m\u001b[0;34m.\u001b[0m\u001b[0mrecv_multipart\u001b[0m\u001b[0;34m(\u001b[0m\u001b[0mmode\u001b[0m\u001b[0;34m,\u001b[0m \u001b[0mcopy\u001b[0m\u001b[0;34m=\u001b[0m\u001b[0mcopy\u001b[0m\u001b[0;34m)\u001b[0m\u001b[0;34m\u001b[0m\u001b[0;34m\u001b[0m\u001b[0m\n\u001b[0m\u001b[1;32m    804\u001b[0m         \u001b[0;32mexcept\u001b[0m \u001b[0mzmq\u001b[0m\u001b[0;34m.\u001b[0m\u001b[0mZMQError\u001b[0m \u001b[0;32mas\u001b[0m \u001b[0me\u001b[0m\u001b[0;34m:\u001b[0m\u001b[0;34m\u001b[0m\u001b[0;34m\u001b[0m\u001b[0m\n",
            "\u001b[0;32m/usr/local/lib/python3.7/dist-packages/zmq/sugar/socket.py\u001b[0m in \u001b[0;36mrecv_multipart\u001b[0;34m(self, flags, copy, track)\u001b[0m\n\u001b[1;32m    582\u001b[0m         \"\"\"\n\u001b[0;32m--> 583\u001b[0;31m         \u001b[0mparts\u001b[0m \u001b[0;34m=\u001b[0m \u001b[0;34m[\u001b[0m\u001b[0mself\u001b[0m\u001b[0;34m.\u001b[0m\u001b[0mrecv\u001b[0m\u001b[0;34m(\u001b[0m\u001b[0mflags\u001b[0m\u001b[0;34m,\u001b[0m \u001b[0mcopy\u001b[0m\u001b[0;34m=\u001b[0m\u001b[0mcopy\u001b[0m\u001b[0;34m,\u001b[0m \u001b[0mtrack\u001b[0m\u001b[0;34m=\u001b[0m\u001b[0mtrack\u001b[0m\u001b[0;34m)\u001b[0m\u001b[0;34m]\u001b[0m\u001b[0;34m\u001b[0m\u001b[0;34m\u001b[0m\u001b[0m\n\u001b[0m\u001b[1;32m    584\u001b[0m         \u001b[0;31m# have first part already, only loop while more to receive\u001b[0m\u001b[0;34m\u001b[0m\u001b[0;34m\u001b[0m\u001b[0;34m\u001b[0m\u001b[0m\n",
            "\u001b[0;32mzmq/backend/cython/socket.pyx\u001b[0m in \u001b[0;36mzmq.backend.cython.socket.Socket.recv\u001b[0;34m()\u001b[0m\n",
            "\u001b[0;32mzmq/backend/cython/socket.pyx\u001b[0m in \u001b[0;36mzmq.backend.cython.socket.Socket.recv\u001b[0;34m()\u001b[0m\n",
            "\u001b[0;32mzmq/backend/cython/socket.pyx\u001b[0m in \u001b[0;36mzmq.backend.cython.socket._recv_copy\u001b[0;34m()\u001b[0m\n",
            "\u001b[0;32m/usr/local/lib/python3.7/dist-packages/zmq/backend/cython/checkrc.pxd\u001b[0m in \u001b[0;36mzmq.backend.cython.checkrc._check_rc\u001b[0;34m()\u001b[0m\n",
            "\u001b[0;31mKeyboardInterrupt\u001b[0m: ",
            "\nDuring handling of the above exception, another exception occurred:\n",
            "\u001b[0;31mKeyboardInterrupt\u001b[0m                         Traceback (most recent call last)",
            "\u001b[0;32m<ipython-input-24-bbf55bdc5b0d>\u001b[0m in \u001b[0;36m<module>\u001b[0;34m()\u001b[0m\n\u001b[1;32m     73\u001b[0m     \u001b[0;32mwhile\u001b[0m \u001b[0mq\u001b[0m \u001b[0;34m>\u001b[0m \u001b[0;36m0\u001b[0m\u001b[0;34m:\u001b[0m\u001b[0;34m\u001b[0m\u001b[0;34m\u001b[0m\u001b[0m\n\u001b[1;32m     74\u001b[0m         \u001b[0mq\u001b[0m \u001b[0;34m-=\u001b[0m \u001b[0;36m1\u001b[0m\u001b[0;34m\u001b[0m\u001b[0;34m\u001b[0m\u001b[0m\n\u001b[0;32m---> 75\u001b[0;31m         \u001b[0ms\u001b[0m \u001b[0;34m=\u001b[0m \u001b[0minput\u001b[0m\u001b[0;34m(\u001b[0m\u001b[0;34m)\u001b[0m\u001b[0;34m\u001b[0m\u001b[0;34m\u001b[0m\u001b[0m\n\u001b[0m\u001b[1;32m     76\u001b[0m         \u001b[0;32mif\u001b[0m \u001b[0ms\u001b[0m\u001b[0;34m[\u001b[0m\u001b[0;36m0\u001b[0m\u001b[0;34m]\u001b[0m \u001b[0;34m==\u001b[0m \u001b[0;34m'1'\u001b[0m\u001b[0;34m:\u001b[0m\u001b[0;34m\u001b[0m\u001b[0;34m\u001b[0m\u001b[0m\n\u001b[1;32m     77\u001b[0m             \u001b[0m_\u001b[0m\u001b[0;34m,\u001b[0m \u001b[0ml\u001b[0m\u001b[0;34m,\u001b[0m \u001b[0mr\u001b[0m\u001b[0;34m,\u001b[0m \u001b[0mval\u001b[0m \u001b[0;34m=\u001b[0m \u001b[0mmap\u001b[0m\u001b[0;34m(\u001b[0m\u001b[0mint\u001b[0m\u001b[0;34m,\u001b[0m \u001b[0ms\u001b[0m\u001b[0;34m.\u001b[0m\u001b[0msplit\u001b[0m\u001b[0;34m(\u001b[0m\u001b[0;34m)\u001b[0m\u001b[0;34m)\u001b[0m\u001b[0;34m\u001b[0m\u001b[0;34m\u001b[0m\u001b[0m\n",
            "\u001b[0;32m/usr/local/lib/python3.7/dist-packages/ipykernel/kernelbase.py\u001b[0m in \u001b[0;36mraw_input\u001b[0;34m(self, prompt)\u001b[0m\n\u001b[1;32m    702\u001b[0m             \u001b[0mself\u001b[0m\u001b[0;34m.\u001b[0m\u001b[0m_parent_ident\u001b[0m\u001b[0;34m,\u001b[0m\u001b[0;34m\u001b[0m\u001b[0;34m\u001b[0m\u001b[0m\n\u001b[1;32m    703\u001b[0m             \u001b[0mself\u001b[0m\u001b[0;34m.\u001b[0m\u001b[0m_parent_header\u001b[0m\u001b[0;34m,\u001b[0m\u001b[0;34m\u001b[0m\u001b[0;34m\u001b[0m\u001b[0m\n\u001b[0;32m--> 704\u001b[0;31m             \u001b[0mpassword\u001b[0m\u001b[0;34m=\u001b[0m\u001b[0;32mFalse\u001b[0m\u001b[0;34m,\u001b[0m\u001b[0;34m\u001b[0m\u001b[0;34m\u001b[0m\u001b[0m\n\u001b[0m\u001b[1;32m    705\u001b[0m         )\n\u001b[1;32m    706\u001b[0m \u001b[0;34m\u001b[0m\u001b[0m\n",
            "\u001b[0;32m/usr/local/lib/python3.7/dist-packages/ipykernel/kernelbase.py\u001b[0m in \u001b[0;36m_input_request\u001b[0;34m(self, prompt, ident, parent, password)\u001b[0m\n\u001b[1;32m    732\u001b[0m             \u001b[0;32mexcept\u001b[0m \u001b[0mKeyboardInterrupt\u001b[0m\u001b[0;34m:\u001b[0m\u001b[0;34m\u001b[0m\u001b[0;34m\u001b[0m\u001b[0m\n\u001b[1;32m    733\u001b[0m                 \u001b[0;31m# re-raise KeyboardInterrupt, to truncate traceback\u001b[0m\u001b[0;34m\u001b[0m\u001b[0;34m\u001b[0m\u001b[0;34m\u001b[0m\u001b[0m\n\u001b[0;32m--> 734\u001b[0;31m                 \u001b[0;32mraise\u001b[0m \u001b[0mKeyboardInterrupt\u001b[0m\u001b[0;34m\u001b[0m\u001b[0;34m\u001b[0m\u001b[0m\n\u001b[0m\u001b[1;32m    735\u001b[0m             \u001b[0;32melse\u001b[0m\u001b[0;34m:\u001b[0m\u001b[0;34m\u001b[0m\u001b[0;34m\u001b[0m\u001b[0m\n\u001b[1;32m    736\u001b[0m                 \u001b[0;32mbreak\u001b[0m\u001b[0;34m\u001b[0m\u001b[0;34m\u001b[0m\u001b[0m\n",
            "\u001b[0;31mKeyboardInterrupt\u001b[0m: "
          ]
        }
      ]
    },
    {
      "cell_type": "markdown",
      "metadata": {
        "id": "IMAE0Qd_RhrE"
      },
      "source": [
        ""
      ]
    }
  ]
}